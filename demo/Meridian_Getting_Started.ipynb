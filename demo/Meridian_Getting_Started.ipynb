{
  "cells": [
    {
      "cell_type": "markdown",
      "metadata": {
        "id": "yuQtvbG_vILv"
      },
      "source": [
        "<table class=\"tfo-notebook-buttons\" align=\"left\">\n",
        "  <td>\n",
        "    <a target=\"_blank\" href=\"https://colab.research.google.com/github/google/meridian/blob/main/demo/Meridian_Getting_Started.ipynb\"><img src=\"https://www.tensorflow.org/images/colab_logo_32px.png\" />Run in Google Colab</a>\n",
        "  </td>\n",
        "  <td>\n",
        "    <a target=\"_blank\" href=\"https://github.com/google/meridian/blob/main/demo/Meridian_Getting_Started.ipynb\"><img src=\"https://www.tensorflow.org/images/GitHub-Mark-32px.png\" />View source on GitHub</a>\n",
        "  </td>\n",
        "</table>"
      ]
    },
    {
      "cell_type": "markdown",
      "metadata": {
        "id": "KqSiFABximWU"
      },
      "source": [
        "# **Introduction to Meridian Demo**"
      ]
    },
    {
      "cell_type": "markdown",
      "metadata": {
        "id": "ckR-pavwis-Q"
      },
      "source": [
        "Welcome to the Meridian end-to-end demo. This simplified demo showcases the fundamental functionalities and basic usage of the library, including working examples of the major modeling steps:\n",
        "\n",
        "\n",
        "<ol start=\"0\">\n",
        "  <li><a href=\"#install\">Install</a></li>\n",
        "  <li><a href=\"#load-data\">Load the data</a></li>\n",
        "  <li><a href=\"#configure-model\">Configure the model</a></li>\n",
        "  <li><a href=\"#model-diagnostics\">Run model diagnostics</a></li>\n",
        "  <li><a href=\"#generate-summary\">Generate model results & two-page output</a></li>\n",
        "  <li><a href=\"#generate-optimize\">Run budget optimization & two-page output</a></li>\n",
        "  <li><a href=\"#save-model\">Save the model object</a></li>\n",
        "</ol>\n",
        "\n",
        "\n",
        "Note that this notebook skips all of the exploratory data analysis and preprocessing steps. It assumes that you have completed these tasks before reaching this point in the demo.\n",
        "\n",
        "This notebook utilizes sample data. As a result, the numbers and results obtained might not accurately reflect what you encounter when working with a real dataset."
      ]
    },
    {
      "cell_type": "markdown",
      "metadata": {
        "id": "GicRPam0mUhF"
      },
      "source": [
        "<a name=\"install\"></a>\n",
        "## Step 0: Install"
      ]
    },
    {
      "cell_type": "markdown",
      "metadata": {
        "id": "pDdX9WofM2fx"
      },
      "source": [
        "1\\. Make sure you are using one of the available GPU Colab runtimes which is **required** to run Meridian. You can change your notebook's runtime in `Runtime > Change runtime type` in the menu. All users can use the T4 GPU runtime which is sufficient to run the demo colab, free of charge. Users who have purchased one of Colab's paid plans have access to premium GPUs (such as V100, A100 or L4 Nvidia GPU)."
      ]
    },
    {
      "cell_type": "markdown",
      "metadata": {
        "id": "nFYRTDuesa1P"
      },
      "source": [
        "2\\. Install the latest version of Meridian, and verify that GPU is available."
      ]
    },
    {
      "cell_type": "code",
      "execution_count": null,
      "metadata": {
        "id": "h1jAk386jF3k"
      },
      "outputs": [],
      "source": [
        "# Install meridian: from PyPI @ latest release\n",
        "#!pip install --upgrade google-meridian[colab,and-cuda]\n",
        "\n",
        "# Install meridian: from PyPI @ specific version\n",
        "# !pip install google-meridian[colab,and-cuda]==1.0.3\n",
        "\n",
        "# Install meridian: from GitHub @HEAD\n",
        "# !pip install --upgrade \"google-meridian[colab,and-cuda] @ git+https://github.com/google/meridian.git\""
      ]
    },
    {
      "cell_type": "code",
      "execution_count": null,
      "metadata": {
        "id": "Fhwt1wzgLwpZ"
      },
      "outputs": [],
      "source": [
        "import numpy as np\n",
        "import pandas as pd\n",
        "import tensorflow as tf\n",
        "import tensorflow_probability as tfp\n",
        "import arviz as az\n",
        "\n",
        "from google.oauth2 import service_account\n",
        "import os\n",
        "from google.cloud import bigquery\n",
        "\n",
        "import IPython\n",
        "\n",
        "from meridian import constants\n",
        "from meridian.data import load\n",
        "from meridian.data import test_utils\n",
        "from meridian.model import model\n",
        "from meridian.model import spec\n",
        "from meridian.model import prior_distribution\n",
        "from meridian.analysis import optimizer\n",
        "from meridian.analysis import analyzer\n",
        "from meridian.analysis import visualizer\n",
        "from meridian.analysis import summarizer\n",
        "from meridian.analysis import formatter\n",
        "\n",
        "# check if GPU is available\n",
        "from psutil import virtual_memory\n",
        "ram_gb = virtual_memory().total / 1e9\n",
        "print('Your runtime has {:.1f} gigabytes of available RAM\\n'.format(ram_gb))\n",
        "print(\"Num GPUs Available: \", len(tf.config.experimental.list_physical_devices('GPU')))\n",
        "print(\"Num CPUs Available: \", len(tf.config.experimental.list_physical_devices('CPU')))"
      ]
    },
    {
      "cell_type": "markdown",
      "metadata": {
        "id": "kiM0UrN6qbIP"
      },
      "source": [
        "<a name=\"load-data\"></a>\n",
        "## Step 1: Load the data"
      ]
    },
    {
      "cell_type": "code",
      "source": [
        "ServiceAccountPath = os.path.join('credentials/', \"rhg-advanced-analytics-8e84f86203d6.json\")\n",
        "\n",
        "gcp_credentials = service_account.Credentials.from_service_account_file(ServiceAccountPath, scopes=[\n",
        "\"https://www.googleapis.com/auth/cloud-platform\", 'https://www.googleapis.com/auth/drive'])"
      ],
      "metadata": {
        "id": "rFqJmjoKMXB1"
      },
      "execution_count": null,
      "outputs": []
    },
    {
      "cell_type": "code",
      "source": [
        "client = bigquery.Client(credentials=gcp_credentials)\n",
        "query_job = client.query('select * from rhg-advanced-analytics.Attribution_Model.Model_Data where region = \"NOWE\" order by 1')\n",
        "\n",
        "df = query_job.result().to_dataframe()\n",
        "df.head(10)"
      ],
      "metadata": {
        "id": "ZXCDMH9LMW9H"
      },
      "execution_count": null,
      "outputs": []
    },
    {
      "cell_type": "code",
      "source": [
        "# Agrupar a nivel semanal\n",
        "df_last = df[['date', 'month_sin', 'month_cos']]\n",
        "df_sum = df.drop(columns=['week_day_sin', 'week_day_cos', 'month_sin', 'month_cos', 'region']).set_index('date').resample('W').sum()\n",
        "\n",
        "df_weekly = df_last.set_index('date').resample('W').last().join(df_sum).reset_index()\n",
        "df_weekly['date'] = pd.to_datetime(df_weekly['date']).dt.strftime(\"%Y-%m-%d\")\n",
        "\n",
        "#Agrupar métricas por canales\n",
        "new_cols = ['imp_affiliation', 'imp_display', 'imp_metasearch', 'imp_paidsearch', 'imp_social', 'inv_affiliation', 'inv_display', 'inv_metasearch', 'inv_paidsearch', 'inv_social']\n",
        "for new_col in new_cols:\n",
        "  cols_to_sum = [col for col in df_weekly.columns if col.startswith(new_col)]\n",
        "  df_weekly[new_col] = df_weekly[cols_to_sum].sum(axis=1)\n",
        "  df_weekly.drop(columns=cols_to_sum, inplace=True)\n",
        "\n",
        "# Calcular revenue por conversión y día\n",
        "df_weekly['revenue_per_conversion'] = df_weekly['revenue'] / df_weekly['conversions']\n",
        "\n",
        "df_weekly"
      ],
      "metadata": {
        "id": "A_WMphgiMW2V"
      },
      "execution_count": null,
      "outputs": []
    },
    {
      "cell_type": "markdown",
      "metadata": {
        "id": "tZd-ik8NbjK6"
      },
      "source": [
        "1\\. Map the column names to their corresponding variable types. For example, the column names 'GQV' and 'Competitor_Sales' are mapped to `controls`. The required variable types are `time`, `controls`, `population`, `kpi`, `revenue_per_kpi`, `media` and `spend`. If your data includes organic media or non-media treatments, you can add them using `organic_media` and `non_media_treatments` arguments. For the definition of each variable, see\n",
        "[Collect and organize your data](https://developers.google.com/meridian/docs/user-guide/collect-data)."
      ]
    },
    {
      "cell_type": "code",
      "source": [
        "imp_columns = [col for col in sorted(df_weekly.columns) if col.startswith('imp')]\n",
        "inv_columns = [col for col in sorted(df_weekly.columns) if col.startswith('inv')]"
      ],
      "metadata": {
        "id": "AH6lVo0KNfAL"
      },
      "execution_count": null,
      "outputs": []
    },
    {
      "cell_type": "code",
      "execution_count": null,
      "metadata": {
        "id": "7sV1ChiEYuyD"
      },
      "outputs": [],
      "source": [
        "coord_to_columns = load.CoordToColumns(\n",
        "    time='date',\n",
        "    #geo='geo',\n",
        "    controls=['month_sin', 'month_cos'],\n",
        "    #population='population',\n",
        "    kpi='conversions',\n",
        "    revenue_per_kpi='revenue_per_conversion',\n",
        "    media=imp_columns,\n",
        "    media_spend=inv_columns,\n",
        "    organic_media=['visits_organic', 'visits_direct'],\n",
        "    #non_media_treatments=['Promo'],\n",
        ")"
      ]
    },
    {
      "cell_type": "markdown",
      "metadata": {
        "id": "8JBDZzl80BrY"
      },
      "source": [
        "2\\. Map the media variables and the media spends to the designated channel names intended for display in the two-page HTML output. In the following example,  'Channel0_impression' and 'Channel0_spend' are connected to the same channel, 'Channel0'."
      ]
    },
    {
      "cell_type": "code",
      "execution_count": null,
      "metadata": {
        "id": "4qdTSk4a0znn"
      },
      "outputs": [],
      "source": [
        "correct_media_to_channel = {col: col.split('_', 1)[1] for col in imp_columns}\n",
        "correct_media_spend_to_channel = {col: col.split('_', 1)[1] for col in inv_columns}"
      ]
    },
    {
      "cell_type": "markdown",
      "metadata": {
        "id": "LNr75vQL1Zru"
      },
      "source": [
        "3\\. Load the CSV data using `CsvDataLoader`. Note that `csv_path` is the path to the data file location."
      ]
    },
    {
      "cell_type": "code",
      "execution_count": null,
      "metadata": {
        "id": "udaLGvwl1U8B"
      },
      "outputs": [],
      "source": [
        "loader = load.DataFrameDataLoader(\n",
        "    df = df_weekly,\n",
        "    kpi_type='non_revenue',\n",
        "    coord_to_columns=coord_to_columns,\n",
        "    media_to_channel=correct_media_to_channel,\n",
        "    media_spend_to_channel=correct_media_spend_to_channel,\n",
        ")\n",
        "data = loader.load()"
      ]
    },
    {
      "cell_type": "markdown",
      "metadata": {
        "id": "DlF5vs8vb8Wn"
      },
      "source": [
        "Note that the simulated data here does not contain reach and frequency. We recommend including reach and frequency data whenever they are available. For information about the advantages of utilizing reach and frequency, see [Bayesian Hierarchical Media Mix Model Incorporating Reach and Frequency Data](https://research.google/pubs/bayesian-hierarchical-media-mix-model-incorporating-reach-and-frequency-data/#:~:text=By%20incorporating%20R%26F%20into%20MMM,based%20on%20optimal%20frequency%20recommendations.). For code snippet for loading reach and frequency data, see [Load geo-level data with reach and frequency](https://developers.google.com/meridian/docs/user-guide/load-geo-data-with-rf)\n",
        "\n",
        "The documentation provides guidance for instances where reach and frequency data is accessible for specific channels. Additionally, for information about how to load other data types and formats, including data with reach and frequency, see [Supported data types and formats](https://developers.google.com/meridian/docs/user-guide/supported-data-types-formats)."
      ]
    },
    {
      "cell_type": "markdown",
      "metadata": {
        "id": "FO6pDd6f2V1L"
      },
      "source": [
        "<a name=\"configure-model\"></a>\n",
        "## Step 2: Configure the model"
      ]
    },
    {
      "cell_type": "markdown",
      "metadata": {
        "id": "a_mQI7HzxxK4"
      },
      "source": [
        "Meridian uses Bayesian framework and Markov Chain Monte Carlo (MCMC) algorithms to sample from the posterior distribution.\n",
        "\n",
        "1\\. Inititalize the `Meridian` class by passing the loaded data and the customized model specification. One advantage of Meridian lies in its capacity to calibrate the model directly through ROI priors, as described in [Media Mix Model Calibration With Bayesian Priors](https://research.google/pubs/media-mix-model-calibration-with-bayesian-priors/). In this particular example, the ROI priors for all media channels are identical, with each being represented as Lognormal(0.2, 0.9)."
      ]
    },
    {
      "cell_type": "code",
      "source": [
        "df = df_weekly.copy()\n",
        "\n",
        "channels = [col.split('_', 1)[1] for col in imp_columns]\n",
        "\n",
        "# Sum all impressions across paid media channels\n",
        "df[\"impressions\"] = df[imp_columns].sum(axis=1)\n",
        "\n",
        "# Calculate revenue contribution per channel\n",
        "for ch in channels:\n",
        "    df[f\"revenue_{ch}\"] = (df[f\"imp_{ch}\"] / df[\"impressions\"]) * df[\"revenue\"]\n",
        "    df[f\"ROI_{ch}\"] = df[f\"revenue_{ch}\"] / df[f\"inv_{ch}\"]\n",
        "\n",
        "    # Estimate μ and σ by taking the log of ROI data\n",
        "    log_roi = np.log(df[f\"ROI_{ch}\"])\n",
        "    mu = np.mean(log_roi)\n",
        "    sigma = np.std(log_roi)\n",
        "\n",
        "    print(f\"Estimated Lognormal parameters: μ={mu}, σ={sigma} for {ch}\")"
      ],
      "metadata": {
        "id": "BidspgSfyahk"
      },
      "execution_count": null,
      "outputs": []
    },
    {
      "source": [
        "import plotly.graph_objects as go\n",
        "import seaborn as sns\n",
        "\n",
        "# Create an interactive figure\n",
        "fig = go.Figure()\n",
        "\n",
        "# Add KDE curves for each channel\n",
        "for ch in channels:\n",
        "    roi_values = df[f\"ROI_{ch}\"].dropna().values\n",
        "\n",
        "    # Check if roi_values has valid data points after dropping NaNs\n",
        "    if len(roi_values) > 0:\n",
        "        try:\n",
        "            # Generate KDE plot, but don't display it directly\n",
        "            kde = sns.kdeplot(roi_values)\n",
        "            x_vals, y_vals = kde.get_lines()[0].get_data()  # Extract KDE curve values\n",
        "\n",
        "            # Remove the seaborn plot since we only need data for plotly\n",
        "            sns.kdeplot(roi_values).remove()\n",
        "\n",
        "            fig.add_trace(go.Scatter(\n",
        "                x=x_vals,\n",
        "                y=y_vals,\n",
        "                mode=\"lines\",\n",
        "                name=ch,\n",
        "                hoverinfo=\"x+y\",\n",
        "            ))\n",
        "\n",
        "        except IndexError:\n",
        "            print(f\"Warning: No valid data points for KDE plot for channel: {ch}\")\n",
        "\n",
        "# Customize layout\n",
        "fig.update_layout(\n",
        "    title=\"Interactive ROI Distribution with Hover\",\n",
        "    xaxis_title=\"ROI\",\n",
        "    yaxis_title=\"Density\",\n",
        "    legend_title=\"Channels\",\n",
        "    hovermode=\"x unified\",\n",
        ")\n",
        "\n",
        "fig.show()"
      ],
      "cell_type": "code",
      "metadata": {
        "id": "tKmVY_eN0m3w"
      },
      "execution_count": null,
      "outputs": []
    },
    {
      "cell_type": "code",
      "execution_count": null,
      "metadata": {
        "id": "8XNDd7HX1qTn"
      },
      "outputs": [],
      "source": [
        "roi_mu = 0.2     # Mu for ROI prior for each media channel.\n",
        "roi_sigma = 0.9  # Sigma for ROI prior for each media channel.\n",
        "prior = prior_distribution.PriorDistribution(\n",
        "    #roi_m=tfp.distributions.LogNormal(roi_mu, roi_sigma, name=constants.ROI_M)\n",
        "    #roi_m=tfp.distributions.Normal(0, 5)   #726727786496\n",
        "    #roi_m=tfp.distributions.HalfNormal(5)  #393121398784\n",
        "    roi_m=tfp.distributions.HalfNormal(1)   #393121398784\n",
        ")\n",
        "model_spec = spec.ModelSpec(prior=prior)\n",
        "\n",
        "mmm = model.Meridian(input_data=data, model_spec=model_spec)"
      ]
    },
    {
      "cell_type": "code",
      "source": [
        "build_media_channel_args = data.get_paid_media_channels_argument_builder()\n",
        "roi_m = build_media_channel_args( #375020322816 con n_chains=7, n_adapt=200/400/500/700/1000/10000\n",
        "  affiliation=(2.6910974519086737, 0.39230277980367256),\n",
        "  display=(2.3864419668141292, 0.63887629989476968),\n",
        "  metasearch=(1.2542785920986408, 0.30304571219376336),\n",
        "  paidsearch=(2.2613816692547011, 0.45842531025292627),\n",
        "  social=(2, 0.4),\n",
        ") # This creates a list of channel-ordered (mu, sigma) tuples.\n",
        "roi_m_mu, roi_m_sigma = zip(*roi_m)\n",
        "\n",
        "prior = prior_distribution.PriorDistribution(\n",
        "    roi_m=tfp.distributions.LogNormal(\n",
        "        roi_m_mu, roi_m_sigma, name=constants.ROI_M\n",
        "    )\n",
        ")\n",
        "model_spec = spec.ModelSpec(prior=prior)\n",
        "\n",
        "mmm = model.Meridian(input_data=data, model_spec=model_spec)"
      ],
      "metadata": {
        "id": "DJClxesEG_Cw"
      },
      "execution_count": null,
      "outputs": []
    },
    {
      "cell_type": "markdown",
      "metadata": {
        "id": "kPQBPlX8cmEv"
      },
      "source": [
        "2\\. Use the `sample_prior()` and `sample_posterior()` methods to obtain samples from the prior and posterior distributions of model parameters. If you are using the T4 GPU runtime this step may take about 10 minutes for the provided data set."
      ]
    },
    {
      "cell_type": "code",
      "execution_count": null,
      "metadata": {
        "id": "KVB3avRdcRNz"
      },
      "outputs": [],
      "source": [
        "%%time\n",
        "mmm.sample_prior(50000)\n",
        "mmm.sample_posterior(n_chains=7, n_adapt=50000, n_burnin=50000, n_keep=50000)"
      ]
    },
    {
      "cell_type": "markdown",
      "metadata": {
        "id": "5WUM2V26cspo"
      },
      "source": [
        "For more information about configuring the parameters and using a customized model specification, such as setting different ROI priors for each media channel, see [Configure the model](https://developers.google.com/meridian/docs/user-guide/configure-model)."
      ]
    },
    {
      "cell_type": "markdown",
      "metadata": {
        "id": "t9oECJwUdJTm"
      },
      "source": [
        "<a name=\"model-diagnostics\"></a>\n",
        "## Step 3: Run model diagnostics"
      ]
    },
    {
      "cell_type": "markdown",
      "metadata": {
        "id": "kSzK6JeMxrV6"
      },
      "source": [
        "After the model is built, you must assess convergence, debug the model if needed, and then assess the model fit.\n",
        "\n",
        "1\\. Assess convergence. Run the following code to generate r-hat statistics. R-hat close to 1.0 indicate convergence. R-hat < 1.2 indicates approximate convergence and is a reasonable threshold for many problems."
      ]
    },
    {
      "cell_type": "code",
      "execution_count": null,
      "metadata": {
        "id": "rFuc7B86yLvM"
      },
      "outputs": [],
      "source": [
        "model_diagnostics = visualizer.ModelDiagnostics(mmm)\n",
        "model_diagnostics.plot_rhat_boxplot()"
      ]
    },
    {
      "cell_type": "markdown",
      "metadata": {
        "id": "nCwt5SGYxlaE"
      },
      "source": [
        "2\\. Assess the model's fit by comparing the expected sales against the actual sales."
      ]
    },
    {
      "cell_type": "code",
      "execution_count": null,
      "metadata": {
        "id": "7Z4zJtHyyhif"
      },
      "outputs": [],
      "source": [
        "model_fit = visualizer.ModelFit(mmm)\n",
        "model_fit.plot_model_fit()"
      ]
    },
    {
      "cell_type": "markdown",
      "metadata": {
        "id": "76IBQcWLu980"
      },
      "source": [
        "For more information and additional model diagnostics checks, see [Modeling diagnostics](https://developers.google.com/meridian/docs/user-guide/model-diagnostics)."
      ]
    },
    {
      "cell_type": "markdown",
      "metadata": {
        "id": "zGUOFFbCdOtl"
      },
      "source": [
        "<a name=\"generate-summary\"></a>\n",
        "## Step 4: Generate model results & two-page output"
      ]
    },
    {
      "cell_type": "markdown",
      "metadata": {
        "id": "puHjkyvZEOEg"
      },
      "source": [
        "To export the two-page HTML summary output, initialize the `Summarizer` class with the model object. Then pass in the filename, filepath, start date, and end date to `output_model_results_summary` to run the summary for that time duration and save it to the specified file."
      ]
    },
    {
      "cell_type": "code",
      "execution_count": null,
      "metadata": {
        "id": "keOpq1qKNbq0"
      },
      "outputs": [],
      "source": [
        "mmm_summarizer = summarizer.Summarizer(mmm)"
      ]
    },
    {
      "cell_type": "code",
      "execution_count": null,
      "metadata": {
        "id": "Ltr4uP80YQe7"
      },
      "outputs": [],
      "source": [
        "from google.colab import drive\n",
        "drive.mount('/content/drive')"
      ]
    },
    {
      "cell_type": "code",
      "execution_count": null,
      "metadata": {
        "id": "qbgNaDYpIfQl"
      },
      "outputs": [],
      "source": [
        "filepath = '/content/drive/MyDrive'\n",
        "start_date = '2021-01-25'\n",
        "end_date = '2024-01-15'\n",
        "mmm_summarizer.output_model_results_summary('summary_output.html', filepath, start_date, end_date)"
      ]
    },
    {
      "cell_type": "markdown",
      "metadata": {
        "id": "j9sBxuvidmr8"
      },
      "source": [
        "Here is a preview of the two-page output based on the simulated data:"
      ]
    },
    {
      "cell_type": "code",
      "execution_count": null,
      "metadata": {
        "id": "vaUe7uZRfJPm"
      },
      "outputs": [],
      "source": [
        "IPython.display.HTML(filename='/content/drive/MyDrive/summary_output.html')"
      ]
    },
    {
      "cell_type": "markdown",
      "metadata": {
        "id": "PphWMfKdwPIw"
      },
      "source": [
        "For a customized two-page report, model results summary table, and individual visualizations, see [Model results report](https://developers.google.com/meridian/docs/user-guide/generate-model-results-report) and [plot media visualizations](https://developers.google.com/meridian/docs/user-guide/plot-media-visualizations).\n",
        "\n",
        "\n",
        "\n"
      ]
    },
    {
      "cell_type": "markdown",
      "metadata": {
        "id": "msqwz2MN5mTq"
      },
      "source": [
        "<a name=\"generate-optimize\"></a>\n",
        "## Step 5: Run budget optimization & generate an optimization report"
      ]
    },
    {
      "cell_type": "markdown",
      "metadata": {
        "id": "khCL6Q2sS-iy"
      },
      "source": [
        "You can choose what scenario to run for the budget allocation. In default scenario, you find the optimal allocation across channels for a given budget to maximize the return on investment (ROI).\n",
        "\n",
        "1\\. Instantiate the `BudgetOptimizer` class and run the `optimize()` method without any customization, to run the default library's Fixed Budget Scenario to maximize ROI."
      ]
    },
    {
      "cell_type": "code",
      "execution_count": null,
      "metadata": {
        "id": "38lhqyLvHf51"
      },
      "outputs": [],
      "source": [
        "%%time\n",
        "budget_optimizer = optimizer.BudgetOptimizer(mmm)\n",
        "optimization_results = budget_optimizer.optimize()"
      ]
    },
    {
      "cell_type": "markdown",
      "metadata": {
        "id": "fLOMqDmCRKRO"
      },
      "source": [
        "2\\. Export the 2-page HTML optimization report, which contains optimized spend allocations and ROI."
      ]
    },
    {
      "cell_type": "code",
      "execution_count": null,
      "metadata": {
        "id": "at7V7YEh_zwZ"
      },
      "outputs": [],
      "source": [
        "filepath = '/content/drive/MyDrive'\n",
        "optimization_results.output_optimization_summary('optimization_output.html', filepath)"
      ]
    },
    {
      "cell_type": "code",
      "execution_count": null,
      "metadata": {
        "id": "jq_mcrj1STDU"
      },
      "outputs": [],
      "source": [
        "IPython.display.HTML(filename='/content/drive/MyDrive/optimization_output.html')"
      ]
    },
    {
      "cell_type": "markdown",
      "metadata": {
        "id": "kIWTubaN0RKC"
      },
      "source": [
        "For information about customized optimization scenarios, such as flexible budget scenarios, see [Budget optimization scenarios](https://developers.google.com/meridian/docs/user-guide/budget-optimization-scenarios). For more information about optimization results summary and individual visualizations, see [optimization results output](https://developers.google.com/meridian/docs/user-guide/generate-optimization-results-output) and [optimization visualizations](https://developers.google.com/meridian/docs/user-guide/plot-optimization-visualizations)."
      ]
    },
    {
      "cell_type": "markdown",
      "metadata": {
        "id": "3m98O3a_TrVg"
      },
      "source": [
        "<a name=\"save-model\"></a>\n",
        "## Step 6: Save the model object"
      ]
    },
    {
      "cell_type": "markdown",
      "metadata": {
        "id": "2Zjh64YG8Dti"
      },
      "source": [
        "We recommend that you save the model object for future use. This helps you to  avoid repetitive model runs and saves time and computational resources. After the model object is saved, you can load it at a later stage to continue the analysis or visualizations without having to re-run the model.\n"
      ]
    },
    {
      "cell_type": "markdown",
      "metadata": {
        "id": "1kamZpyv8KMh"
      },
      "source": [
        "Run the following codes to save the model object:"
      ]
    },
    {
      "cell_type": "code",
      "execution_count": null,
      "metadata": {
        "id": "FfaQQ8-fTw0K"
      },
      "outputs": [],
      "source": [
        "file_path='/content/drive/MyDrive/saved_mmm.pkl'\n",
        "model.save_mmm(mmm, file_path)"
      ]
    },
    {
      "cell_type": "markdown",
      "metadata": {
        "id": "k2v_s2uS8PgA"
      },
      "source": [
        "Run the following codes to load the saved model:"
      ]
    },
    {
      "cell_type": "code",
      "execution_count": null,
      "metadata": {
        "id": "ZGUmiYI48epA"
      },
      "outputs": [],
      "source": [
        "mmm = model.load_mmm(file_path)"
      ]
    }
  ],
  "metadata": {
    "accelerator": "GPU",
    "colab": {
      "gpuType": "T4",
      "private_outputs": true,
      "provenance": []
    },
    "kernelspec": {
      "display_name": "Python 3",
      "name": "python3"
    },
    "language_info": {
      "name": "python"
    }
  },
  "nbformat": 4,
  "nbformat_minor": 0
}